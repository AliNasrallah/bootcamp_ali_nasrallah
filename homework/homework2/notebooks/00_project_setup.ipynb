{
 "cells": [
  {
   "cell_type": "markdown",
   "id": "4dbf4c1a-e1f8-4dca-ac29-2866bbe2669a",
   "metadata": {},
   "source": [
    "# Environment & Config Check"
   ]
  },
  {
   "cell_type": "code",
   "execution_count": 21,
   "id": "3b8adf4c-9fb0-4a15-9e75-472498070930",
   "metadata": {},
   "outputs": [
    {
     "name": "stdout",
     "output_type": "stream",
     "text": [
      "API KEY Present\n"
     ]
    }
   ],
   "source": [
    "from dotenv import load_dotenv\n",
    "import os\n",
    "\n",
    "load_dotenv()\n",
    "key=os.getenv(\"API_KEY\")\n",
    "if key:\n",
    "    print(\"API KEY Present\")\n",
    "else:\n",
    "    print(\"API KEY Not Present\")\n"
   ]
  },
  {
   "cell_type": "code",
   "execution_count": 1,
   "id": "0d6ebbe8-f95b-4007-b2d3-b4ef8baa7eb8",
   "metadata": {},
   "outputs": [
    {
     "name": "stdout",
     "output_type": "stream",
     "text": [
      "Mean:  3.0\n"
     ]
    }
   ],
   "source": [
    "import numpy as np\n",
    "\n",
    "array = np.array([1,2,3,4,5])\n",
    "print(\"Mean: \", array.mean())"
   ]
  },
  {
   "cell_type": "code",
   "execution_count": null,
   "id": "0620a513-ed19-4225-b786-3dfb7be8f20a",
   "metadata": {},
   "outputs": [],
   "source": []
  }
 ],
 "metadata": {
  "kernelspec": {
   "display_name": "Python 3 (ipykernel)",
   "language": "python",
   "name": "python3"
  },
  "language_info": {
   "codemirror_mode": {
    "name": "ipython",
    "version": 3
   },
   "file_extension": ".py",
   "mimetype": "text/x-python",
   "name": "python",
   "nbconvert_exporter": "python",
   "pygments_lexer": "ipython3",
   "version": "3.10.18"
  }
 },
 "nbformat": 4,
 "nbformat_minor": 5
}
